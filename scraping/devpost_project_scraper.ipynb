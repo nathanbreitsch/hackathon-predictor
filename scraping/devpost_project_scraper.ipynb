{
 "cells": [
  {
   "cell_type": "code",
   "execution_count": 130,
   "metadata": {
    "collapsed": true
   },
   "outputs": [],
   "source": [
    "import webbrowser\n",
    "import requests\n",
    "from bs4 import BeautifulSoup\n",
    "import time\n",
    "import json"
   ]
  },
  {
   "cell_type": "code",
   "execution_count": 131,
   "metadata": {
    "collapsed": false
   },
   "outputs": [],
   "source": [
    "hackathon_urls = None\n",
    "with open('./scrape_data/hackathon_urls', 'r') as f:\n",
    "    hackathon_urls = [line.strip() for line in f.readlines()]"
   ]
  },
  {
   "cell_type": "code",
   "execution_count": 132,
   "metadata": {
    "collapsed": false
   },
   "outputs": [],
   "source": [
    "sample_url = hackathon_urls[-1]"
   ]
  },
  {
   "cell_type": "code",
   "execution_count": 133,
   "metadata": {
    "collapsed": false
   },
   "outputs": [
    {
     "data": {
      "text/plain": [
       "'http://hackforchangebaltimore.devpost.com/?ref_content=default&ref_feature=challenge&ref_medium=discover'"
      ]
     },
     "execution_count": 133,
     "metadata": {},
     "output_type": "execute_result"
    }
   ],
   "source": [
    "sample_url"
   ]
  },
  {
   "cell_type": "code",
   "execution_count": 134,
   "metadata": {
    "collapsed": false
   },
   "outputs": [
    {
     "data": {
      "text/plain": [
       "'hackforchangebaltimore'"
      ]
     },
     "execution_count": 134,
     "metadata": {},
     "output_type": "execute_result"
    }
   ],
   "source": [
    "hackathon_id = sample_url.replace('http://','')\n",
    "period_index = hackathon_id.index('.')\n",
    "hackathon_id = hackathon_id[0: period_index]\n",
    "hackathon_id"
   ]
  },
  {
   "cell_type": "code",
   "execution_count": 135,
   "metadata": {
    "collapsed": false
   },
   "outputs": [],
   "source": [
    "idx = sample_url.find('?')\n",
    "submission_url = sample_url[0:idx] + 'submissions'"
   ]
  },
  {
   "cell_type": "code",
   "execution_count": 136,
   "metadata": {
    "collapsed": false
   },
   "outputs": [],
   "source": [
    "page = requests.get(submission_url)"
   ]
  },
  {
   "cell_type": "code",
   "execution_count": 22,
   "metadata": {
    "collapsed": true
   },
   "outputs": [],
   "source": [
    "content = BeautifulSoup(page.content,'lxml')"
   ]
  },
  {
   "cell_type": "code",
   "execution_count": 29,
   "metadata": {
    "collapsed": false
   },
   "outputs": [],
   "source": [
    "project_urls = [a.attrs['href'] for a in content.select('#submission-gallery a.software-entry-link')]"
   ]
  },
  {
   "cell_type": "code",
   "execution_count": 137,
   "metadata": {
    "collapsed": true
   },
   "outputs": [],
   "source": [
    "#projects = []"
   ]
  },
  {
   "cell_type": "code",
   "execution_count": null,
   "metadata": {
    "collapsed": false
   },
   "outputs": [
    {
     "name": "stdout",
     "output_type": "stream",
     "text": [
      "working on hackathon #1\n",
      "working on hackathon #2\n",
      "working on hackathon #3\n",
      "working on hackathon #4\n",
      "working on hackathon #5\n",
      "working on hackathon #6\n",
      "working on hackathon #7\n",
      "working on hackathon #8\n",
      "working on hackathon #9\n",
      "working on hackathon #10\n",
      "working on hackathon #11\n",
      "working on hackathon #12\n",
      "working on hackathon #13\n",
      "working on hackathon #14\n",
      "working on hackathon #15\n",
      "working on hackathon #16\n",
      "working on hackathon #17\n",
      "working on hackathon #18\n",
      "working on hackathon #19\n",
      "working on hackathon #20\n",
      "working on hackathon #21\n",
      "working on hackathon #22\n",
      "working on hackathon #23\n",
      "working on hackathon #24\n",
      "working on hackathon #25\n",
      "working on hackathon #26\n",
      "working on hackathon #27\n",
      "working on hackathon #28\n",
      "working on hackathon #29\n",
      "working on hackathon #30\n",
      "working on hackathon #31\n",
      "working on hackathon #32\n",
      "working on hackathon #33\n",
      "working on hackathon #34\n",
      "working on hackathon #35\n",
      "working on hackathon #36\n",
      "working on hackathon #37\n",
      "working on hackathon #38\n",
      "working on hackathon #39\n",
      "working on hackathon #40\n",
      "working on hackathon #41\n",
      "working on hackathon #42\n",
      "working on hackathon #43\n",
      "working on hackathon #44\n",
      "working on hackathon #45\n",
      "working on hackathon #46\n",
      "working on hackathon #47\n",
      "working on hackathon #48\n",
      "working on hackathon #49\n",
      "working on hackathon #50\n",
      "working on hackathon #51\n",
      "working on hackathon #52\n",
      "working on hackathon #53\n",
      "working on hackathon #54\n",
      "working on hackathon #55\n",
      "working on hackathon #56\n",
      "working on hackathon #57\n",
      "working on hackathon #58\n",
      "working on hackathon #59\n",
      "working on hackathon #60\n",
      "working on hackathon #61\n",
      "working on hackathon #62\n",
      "working on hackathon #63\n",
      "working on hackathon #64\n",
      "working on hackathon #65\n",
      "working on hackathon #66\n",
      "working on hackathon #67\n",
      "working on hackathon #68\n",
      "working on hackathon #69\n",
      "working on hackathon #70\n",
      "working on hackathon #71\n",
      "working on hackathon #72\n",
      "working on hackathon #73\n",
      "working on hackathon #74\n",
      "working on hackathon #75\n",
      "working on hackathon #76\n",
      "working on hackathon #77\n",
      "working on hackathon #78\n",
      "working on hackathon #79\n",
      "working on hackathon #80\n",
      "working on hackathon #81\n",
      "working on hackathon #82\n",
      "working on hackathon #83\n",
      "working on hackathon #84\n",
      "working on hackathon #85\n",
      "working on hackathon #86\n",
      "working on hackathon #87\n",
      "working on hackathon #88\n",
      "working on hackathon #89\n",
      "working on hackathon #90\n",
      "working on hackathon #91\n",
      "working on hackathon #92\n",
      "working on hackathon #93\n",
      "working on hackathon #94\n",
      "working on hackathon #95\n",
      "working on hackathon #96\n",
      "working on hackathon #97\n",
      "working on hackathon #98\n",
      "working on hackathon #99\n",
      "working on hackathon #100\n",
      "working on hackathon #101\n",
      "working on hackathon #102\n",
      "working on hackathon #103\n",
      "working on hackathon #104\n",
      "working on hackathon #105\n",
      "working on hackathon #106\n",
      "working on hackathon #107\n",
      "working on hackathon #108\n",
      "working on hackathon #109\n",
      "working on hackathon #110\n",
      "working on hackathon #111\n",
      "working on hackathon #112\n",
      "working on hackathon #113\n",
      "working on hackathon #114\n",
      "working on hackathon #115\n",
      "working on hackathon #116\n",
      "working on hackathon #117\n",
      "working on hackathon #118\n",
      "working on hackathon #119\n",
      "working on hackathon #120\n",
      "working on hackathon #121\n",
      "working on hackathon #122\n",
      "working on hackathon #123\n",
      "working on hackathon #124\n",
      "working on hackathon #125\n",
      "working on hackathon #126\n",
      "working on hackathon #127\n",
      "working on hackathon #128\n",
      "working on hackathon #129\n",
      "working on hackathon #130\n",
      "working on hackathon #131\n",
      "working on hackathon #132\n",
      "working on hackathon #133\n",
      "working on hackathon #134\n",
      "working on hackathon #135\n",
      "working on hackathon #136\n",
      "working on hackathon #137\n",
      "working on hackathon #138\n",
      "working on hackathon #139\n",
      "working on hackathon #140\n",
      "working on hackathon #141\n",
      "working on hackathon #142\n",
      "working on hackathon #143\n",
      "working on hackathon #144\n",
      "working on hackathon #145\n",
      "working on hackathon #146\n",
      "working on hackathon #147\n",
      "working on hackathon #148\n",
      "working on hackathon #149\n",
      "working on hackathon #150\n",
      "working on hackathon #151\n",
      "working on hackathon #152\n",
      "working on hackathon #153\n",
      "working on hackathon #154\n",
      "working on hackathon #155\n",
      "working on hackathon #156\n",
      "working on hackathon #157\n",
      "working on hackathon #158\n",
      "working on hackathon #159\n",
      "working on hackathon #160\n",
      "working on hackathon #161\n",
      "working on hackathon #162\n",
      "working on hackathon #163\n",
      "working on hackathon #164\n",
      "working on hackathon #165\n",
      "working on hackathon #166\n",
      "working on hackathon #167\n",
      "working on hackathon #168\n",
      "working on hackathon #169\n",
      "working on hackathon #170\n",
      "working on hackathon #171\n",
      "working on hackathon #172\n",
      "working on hackathon #173\n",
      "working on hackathon #174\n",
      "working on hackathon #175\n",
      "working on hackathon #176\n",
      "working on hackathon #177\n",
      "working on hackathon #178\n",
      "working on hackathon #179\n",
      "working on hackathon #180\n",
      "working on hackathon #181\n",
      "working on hackathon #182\n",
      "working on hackathon #183\n",
      "working on hackathon #184\n",
      "working on hackathon #185\n",
      "working on hackathon #186\n",
      "working on hackathon #187\n",
      "working on hackathon #188\n",
      "working on hackathon #189\n",
      "working on hackathon #190\n",
      "working on hackathon #191\n",
      "working on hackathon #192\n",
      "working on hackathon #193\n",
      "working on hackathon #194\n",
      "working on hackathon #195\n",
      "working on hackathon #196\n",
      "working on hackathon #197\n",
      "working on hackathon #198\n",
      "working on hackathon #199\n",
      "working on hackathon #200\n",
      "working on hackathon #201\n",
      "working on hackathon #202\n",
      "working on hackathon #203\n",
      "working on hackathon #204\n",
      "working on hackathon #205\n",
      "working on hackathon #206\n",
      "working on hackathon #207\n",
      "working on hackathon #208\n",
      "working on hackathon #209\n",
      "working on hackathon #210\n",
      "working on hackathon #211\n",
      "working on hackathon #212\n",
      "working on hackathon #213\n",
      "working on hackathon #214\n",
      "working on hackathon #215\n",
      "working on hackathon #216\n",
      "working on hackathon #217\n",
      "working on hackathon #218\n",
      "working on hackathon #219\n",
      "working on hackathon #220\n",
      "working on hackathon #221\n",
      "working on hackathon #222\n",
      "working on hackathon #223\n",
      "working on hackathon #224\n",
      "working on hackathon #225\n",
      "working on hackathon #226\n",
      "working on hackathon #227\n",
      "working on hackathon #228\n",
      "working on hackathon #229\n",
      "working on hackathon #230\n",
      "working on hackathon #231\n",
      "working on hackathon #232\n",
      "working on hackathon #233\n",
      "working on hackathon #234\n",
      "working on hackathon #235\n",
      "working on hackathon #236\n",
      "working on hackathon #237\n",
      "working on hackathon #238\n",
      "working on hackathon #239\n",
      "working on hackathon #240\n",
      "working on hackathon #241\n",
      "working on hackathon #242\n",
      "working on hackathon #243\n",
      "working on hackathon #244\n",
      "working on hackathon #245\n",
      "working on hackathon #246\n",
      "working on hackathon #247\n",
      "working on hackathon #248\n",
      "working on hackathon #249\n",
      "working on hackathon #250\n",
      "working on hackathon #251\n",
      "working on hackathon #252\n",
      "working on hackathon #253\n",
      "working on hackathon #254\n",
      "working on hackathon #255\n",
      "working on hackathon #256\n",
      "working on hackathon #257\n",
      "working on hackathon #258\n",
      "working on hackathon #259\n",
      "working on hackathon #260\n",
      "working on hackathon #261\n",
      "working on hackathon #262\n",
      "working on hackathon #263\n",
      "working on hackathon #264\n",
      "working on hackathon #265\n",
      "working on hackathon #266\n",
      "working on hackathon #267\n",
      "working on hackathon #268\n",
      "working on hackathon #269\n",
      "working on hackathon #270\n",
      "working on hackathon #271\n",
      "working on hackathon #272\n",
      "working on hackathon #273\n",
      "working on hackathon #274\n",
      "working on hackathon #275\n",
      "working on hackathon #276\n",
      "working on hackathon #277\n",
      "working on hackathon #278\n",
      "working on hackathon #279\n",
      "working on hackathon #280\n",
      "working on hackathon #281\n",
      "working on hackathon #282\n",
      "working on hackathon #283\n",
      "working on hackathon #284\n",
      "working on hackathon #285\n",
      "working on hackathon #286\n",
      "working on hackathon #287\n",
      "working on hackathon #288\n",
      "working on hackathon #289\n",
      "working on hackathon #290\n",
      "working on hackathon #291\n",
      "working on hackathon #292\n",
      "working on hackathon #293\n",
      "working on hackathon #294\n",
      "working on hackathon #295\n",
      "working on hackathon #296\n",
      "working on hackathon #297\n",
      "working on hackathon #298\n",
      "working on hackathon #299\n",
      "working on hackathon #300\n",
      "working on hackathon #301\n",
      "working on hackathon #302\n",
      "working on hackathon #303, project #1\n",
      "working on hackathon #303, project #2\n",
      "working on hackathon #303, project #3\n",
      "working on hackathon #303, project #4\n",
      "working on hackathon #303, project #5\n",
      "working on hackathon #303, project #6\n",
      "working on hackathon #303, project #7\n",
      "working on hackathon #303, project #8\n",
      "working on hackathon #303, project #9\n",
      "working on hackathon #303\n",
      "working on hackathon #304\n",
      "working on hackathon #305, project #10\n",
      "working on hackathon #305, project #11\n",
      "working on hackathon #305, project #12\n",
      "working on hackathon #305, project #13\n",
      "working on hackathon #305, project #14\n",
      "working on hackathon #305, project #15\n",
      "working on hackathon #305, project #16\n",
      "working on hackathon #305, project #17\n",
      "working on hackathon #305, project #18\n",
      "working on hackathon #305, project #19\n",
      "working on hackathon #305, project #20\n",
      "working on hackathon #305, project #21\n",
      "working on hackathon #305, project #22\n",
      "working on hackathon #305, project #23\n",
      "working on hackathon #305, project #24\n",
      "working on hackathon #305, project #25\n",
      "working on hackathon #305, project #26\n",
      "working on hackathon #305, project #27\n",
      "working on hackathon #305, project #28\n",
      "working on hackathon #305, project #29\n",
      "working on hackathon #305, project #30\n",
      "working on hackathon #305, project #31\n",
      "working on hackathon #305, project #32"
     ]
    }
   ],
   "source": [
    "index = 1\n",
    "project_index = 1\n",
    "for hackathon in hackathon_urls:\n",
    "    \n",
    "    print(\"working on hackathon #%d\" % index)\n",
    "    index += 1\n",
    "    if index > 300: #where we left off\n",
    "        time.sleep(1)\n",
    "        # compute unique id that is shorter/more readable than url\n",
    "        hackathon_id = hackathon.replace('http://','')\n",
    "        period_index = hackathon_id.index('.')\n",
    "        hackathon_id = hackathon_id[0: period_index]\n",
    "        #compute url for submissions\n",
    "        idx = hackathon.find('?')\n",
    "        submission_url = hackathon[0:idx] + 'submissions'\n",
    "        #get page and do stuff\n",
    "        page = requests.get(submission_url)\n",
    "        content = BeautifulSoup(page.content,'lxml')\n",
    "        project_urls = [a.attrs['href'] for a in content.select('#submission-gallery a.software-entry-link, #submission-gallery a.link-to-software')]\n",
    "        #and loop through all the projects\n",
    "        for project in project_urls:\n",
    "            print(\"working on hackathon #%d, project #%d\" % (index, project_index))\n",
    "            project_index += 1\n",
    "            proj_page = requests.get(project)\n",
    "            proj_content = BeautifulSoup(proj_page.content, 'lxml')\n",
    "            try:\n",
    "                details_div = proj_content.select('#app-details-left > div')[1]\n",
    "                details = details_div.text\n",
    "                winner = len(proj_content.select('.winner')) > 0\n",
    "                projects.append({\n",
    "                        'description': details,\n",
    "                        'winner': winner,\n",
    "                        'hackathon_id': hackathon_id\n",
    "                    })\n",
    "            except:\n",
    "                pass\n",
    "            # once again, lets not be assholes\n",
    "            time.sleep(1)"
   ]
  },
  {
   "cell_type": "code",
   "execution_count": 142,
   "metadata": {
    "collapsed": false
   },
   "outputs": [
    {
     "data": {
      "text/plain": [
       "2991"
      ]
     },
     "execution_count": 142,
     "metadata": {},
     "output_type": "execute_result"
    }
   ],
   "source": [
    "len(projects)"
   ]
  },
  {
   "cell_type": "code",
   "execution_count": 143,
   "metadata": {
    "collapsed": false
   },
   "outputs": [],
   "source": [
    "with open('./scrape_data/projects.json','w') as f:\n",
    "    json.dump(projects, f, {'4': 5, '6': 7}, sort_keys=True, indent=4, separators=(',', ': '))"
   ]
  },
  {
   "cell_type": "code",
   "execution_count": null,
   "metadata": {
    "collapsed": false
   },
   "outputs": [],
   "source": [
    "\n"
   ]
  },
  {
   "cell_type": "code",
   "execution_count": null,
   "metadata": {
    "collapsed": false
   },
   "outputs": [],
   "source": []
  },
  {
   "cell_type": "code",
   "execution_count": null,
   "metadata": {
    "collapsed": true
   },
   "outputs": [],
   "source": []
  }
 ],
 "metadata": {
  "kernelspec": {
   "display_name": "Python 3",
   "language": "python",
   "name": "python3"
  },
  "language_info": {
   "codemirror_mode": {
    "name": "ipython",
    "version": 3
   },
   "file_extension": ".py",
   "mimetype": "text/x-python",
   "name": "python",
   "nbconvert_exporter": "python",
   "pygments_lexer": "ipython3",
   "version": "3.5.1"
  }
 },
 "nbformat": 4,
 "nbformat_minor": 0
}
