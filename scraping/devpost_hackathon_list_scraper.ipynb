{
 "cells": [
  {
   "cell_type": "code",
   "execution_count": 114,
   "metadata": {
    "collapsed": false
   },
   "outputs": [],
   "source": [
    "import webbrowser\n",
    "import requests\n",
    "from bs4 import BeautifulSoup\n",
    "import time"
   ]
  },
  {
   "cell_type": "code",
   "execution_count": 115,
   "metadata": {
    "collapsed": false
   },
   "outputs": [],
   "source": [
    "base_list_url = 'http://devpost.com/hackathons?challenge_type=in-person&sort_by=Recently+Added&page=%d'"
   ]
  },
  {
   "cell_type": "code",
   "execution_count": 116,
   "metadata": {
    "collapsed": false
   },
   "outputs": [],
   "source": [
    "def parse_articles(articles, urls):\n",
    "    for a in articles:\n",
    "        link = a.select('a[data-role]')[0]\n",
    "        url = link.attrs['href']\n",
    "        date = a1.select('span.date-range')[0].text\n",
    "        year = date.split(' ')[-1]\n",
    "        # use year later to only get past hackathons\n",
    "        hackathon_urls.append(url)"
   ]
  },
  {
   "cell_type": "code",
   "execution_count": null,
   "metadata": {
    "collapsed": false
   },
   "outputs": [],
   "source": []
  },
  {
   "cell_type": "code",
   "execution_count": 117,
   "metadata": {
    "collapsed": false
   },
   "outputs": [
    {
     "name": "stdout",
     "output_type": "stream",
     "text": [
      "currently on page 1\n",
      "currently on page 2\n",
      "currently on page 3\n",
      "currently on page 4\n",
      "currently on page 5\n",
      "currently on page 6\n",
      "currently on page 7\n",
      "currently on page 8\n",
      "currently on page 9\n",
      "currently on page 10\n",
      "currently on page 11\n",
      "currently on page 12\n",
      "currently on page 13\n",
      "currently on page 14\n",
      "currently on page 15\n",
      "currently on page 16\n",
      "currently on page 17\n",
      "currently on page 18\n",
      "currently on page 19\n",
      "currently on page 20\n",
      "currently on page 21\n",
      "currently on page 22\n",
      "currently on page 23\n",
      "currently on page 24\n",
      "currently on page 25\n",
      "currently on page 26\n",
      "currently on page 27\n",
      "currently on page 28\n",
      "currently on page 29\n",
      "currently on page 30\n",
      "currently on page 31\n",
      "currently on page 32\n",
      "currently on page 33\n",
      "currently on page 34\n",
      "currently on page 35\n",
      "currently on page 36\n",
      "currently on page 37\n",
      "currently on page 38\n",
      "currently on page 39\n",
      "currently on page 40\n",
      "currently on page 41\n",
      "currently on page 42\n",
      "currently on page 43\n",
      "currently on page 44\n",
      "currently on page 45\n",
      "currently on page 46\n",
      "currently on page 47\n",
      "currently on page 48\n",
      "currently on page 49\n",
      "currently on page 50\n",
      "currently on page 51\n",
      "currently on page 52\n",
      "currently on page 53\n",
      "currently on page 54\n",
      "currently on page 55\n",
      "currently on page 56\n",
      "currently on page 57\n",
      "currently on page 58\n",
      "currently on page 59\n",
      "currently on page 60\n",
      "currently on page 61\n",
      "currently on page 62\n",
      "currently on page 63\n",
      "currently on page 64\n",
      "currently on page 65\n",
      "currently on page 66\n",
      "currently on page 67\n",
      "currently on page 68\n",
      "currently on page 69\n",
      "currently on page 70\n",
      "currently on page 71\n",
      "currently on page 72\n",
      "currently on page 73\n",
      "currently on page 74\n",
      "currently on page 75\n",
      "currently on page 76\n",
      "currently on page 77\n",
      "currently on page 78\n",
      "currently on page 79\n",
      "currently on page 80\n",
      "currently on page 81\n",
      "currently on page 82\n",
      "currently on page 83\n",
      "currently on page 84\n",
      "currently on page 85\n",
      "currently on page 86\n",
      "currently on page 87\n",
      "currently on page 88\n",
      "currently on page 89\n",
      "currently on page 90\n",
      "currently on page 91\n",
      "currently on page 92\n",
      "currently on page 93\n",
      "currently on page 94\n",
      "currently on page 95\n",
      "currently on page 96\n",
      "currently on page 97\n",
      "currently on page 98\n",
      "currently on page 99\n",
      "currently on page 100\n",
      "currently on page 101\n",
      "currently on page 102\n",
      "currently on page 103\n",
      "currently on page 104\n",
      "currently on page 105\n",
      "currently on page 106\n",
      "currently on page 107\n",
      "currently on page 108\n",
      "currently on page 109\n",
      "currently on page 110\n",
      "currently on page 111\n",
      "currently on page 112\n"
     ]
    }
   ],
   "source": [
    "hackathon_urls = []\n",
    "for page_num in range(1, 113):\n",
    "    list_url = base_list_url %page_num\n",
    "    page = requests.get(list_url)\n",
    "    content = BeautifulSoup(page.content,'lxml')\n",
    "    articles = content.select('article.challenge-listing, article.challenge-listing-featured')\n",
    "    parse_articles(articles, hackathon_urls)\n",
    "    print('currently on page %d' % page_num)\n",
    "    time.sleep(1)  # lets not be assholes, sleep 2 sec between requests"
   ]
  },
  {
   "cell_type": "code",
   "execution_count": 123,
   "metadata": {
    "collapsed": false
   },
   "outputs": [
    {
     "data": {
      "text/plain": [
       "'http://communityhack.devpost.com/?ref_content=default&ref_feature=challenge&ref_medium=discover'"
      ]
     },
     "execution_count": 123,
     "metadata": {},
     "output_type": "execute_result"
    }
   ],
   "source": [
    "hackathon_urls[0]"
   ]
  },
  {
   "cell_type": "code",
   "execution_count": 126,
   "metadata": {
    "collapsed": false
   },
   "outputs": [],
   "source": [
    "with open('./scrape_data/hackathon_urls', 'w') as f:\n",
    "    for url in hackathon_urls:\n",
    "        f.write(url + \"\\n\")"
   ]
  },
  {
   "cell_type": "code",
   "execution_count": null,
   "metadata": {
    "collapsed": true
   },
   "outputs": [],
   "source": []
  }
 ],
 "metadata": {
  "kernelspec": {
   "display_name": "Python 3",
   "language": "python",
   "name": "python3"
  },
  "language_info": {
   "codemirror_mode": {
    "name": "ipython",
    "version": 3
   },
   "file_extension": ".py",
   "mimetype": "text/x-python",
   "name": "python",
   "nbconvert_exporter": "python",
   "pygments_lexer": "ipython3",
   "version": "3.5.1"
  }
 },
 "nbformat": 4,
 "nbformat_minor": 0
}
