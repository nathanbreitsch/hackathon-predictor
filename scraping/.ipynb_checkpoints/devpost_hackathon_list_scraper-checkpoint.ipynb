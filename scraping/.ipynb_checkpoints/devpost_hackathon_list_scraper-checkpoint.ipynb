{
 "cells": [
  {
   "cell_type": "code",
   "execution_count": 100,
   "metadata": {
    "collapsed": false
   },
   "outputs": [],
   "source": [
    "import webbrowser\n",
    "import requests\n",
    "from bs4 import BeautifulSoup\n",
    "import time"
   ]
  },
  {
   "cell_type": "code",
   "execution_count": 97,
   "metadata": {
    "collapsed": false
   },
   "outputs": [],
   "source": [
    "base_list_url = 'http://devpost.com/hackathons?search=&challenge_type=in-person&sort_by=Submission+Deadline&page=%d'"
   ]
  },
  {
   "cell_type": "code",
   "execution_count": 94,
   "metadata": {
    "collapsed": false
   },
   "outputs": [],
   "source": [
    "def parse_articles(articles, urls):\n",
    "    for a in articles:\n",
    "        link = a.select('a[data-role]')[0]\n",
    "        url = link.attrs['href']\n",
    "        date = a1.select('span.date-range')[0].text\n",
    "        year = date.split(' ')[-1]\n",
    "        # use year later to only get past hackathons\n",
    "        hackathon_urls.append(url)"
   ]
  },
  {
   "cell_type": "code",
   "execution_count": 95,
   "metadata": {
    "collapsed": false
   },
   "outputs": [],
   "source": [
    "parse_articles(articles, hackathon_urls)"
   ]
  },
  {
   "cell_type": "code",
   "execution_count": null,
   "metadata": {
    "collapsed": true
   },
   "outputs": [],
   "source": [
    "hackathon_urls = []\n",
    "for page in range(1, 113):\n",
    "    list_url = base_list_url %page\n",
    "    page = requests.get(list_url)\n",
    "    content = BeautifulSoup(page.content,'lxml')\n",
    "    articles = content.select('article.challenge-listing, article.challenge-listing-featured')\n",
    "    parse_articles(articles, hackathon_urls)\n",
    "    time.sleep(2)  # lets not be assholes, sleep 2 sec between requests"
   ]
  }
 ],
 "metadata": {
  "kernelspec": {
   "display_name": "Python 3",
   "language": "python",
   "name": "python3"
  },
  "language_info": {
   "codemirror_mode": {
    "name": "ipython",
    "version": 3
   },
   "file_extension": ".py",
   "mimetype": "text/x-python",
   "name": "python",
   "nbconvert_exporter": "python",
   "pygments_lexer": "ipython3",
   "version": "3.5.1"
  }
 },
 "nbformat": 4,
 "nbformat_minor": 0
}
