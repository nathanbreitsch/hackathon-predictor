{
 "cells": [
  {
   "cell_type": "code",
   "execution_count": 130,
   "metadata": {
    "collapsed": true
   },
   "outputs": [],
   "source": [
    "import webbrowser\n",
    "import requests\n",
    "from bs4 import BeautifulSoup\n",
    "import time\n",
    "import json"
   ]
  },
  {
   "cell_type": "code",
   "execution_count": 131,
   "metadata": {
    "collapsed": false
   },
   "outputs": [],
   "source": [
    "hackathon_urls = None\n",
    "with open('./scrape_data/hackathon_urls', 'r') as f:\n",
    "    hackathon_urls = [line.strip() for line in f.readlines()]"
   ]
  },
  {
   "cell_type": "code",
   "execution_count": 132,
   "metadata": {
    "collapsed": false
   },
   "outputs": [],
   "source": [
    "sample_url = hackathon_urls[-1]"
   ]
  },
  {
   "cell_type": "code",
   "execution_count": 133,
   "metadata": {
    "collapsed": false
   },
   "outputs": [
    {
     "data": {
      "text/plain": [
       "'http://hackforchangebaltimore.devpost.com/?ref_content=default&ref_feature=challenge&ref_medium=discover'"
      ]
     },
     "execution_count": 133,
     "metadata": {},
     "output_type": "execute_result"
    }
   ],
   "source": [
    "sample_url"
   ]
  },
  {
   "cell_type": "code",
   "execution_count": 134,
   "metadata": {
    "collapsed": false
   },
   "outputs": [
    {
     "data": {
      "text/plain": [
       "'hackforchangebaltimore'"
      ]
     },
     "execution_count": 134,
     "metadata": {},
     "output_type": "execute_result"
    }
   ],
   "source": [
    "hackathon_id = sample_url.replace('http://','')\n",
    "period_index = hackathon_id.index('.')\n",
    "hackathon_id = hackathon_id[0: period_index]\n",
    "hackathon_id"
   ]
  },
  {
   "cell_type": "code",
   "execution_count": 135,
   "metadata": {
    "collapsed": false
   },
   "outputs": [],
   "source": [
    "idx = sample_url.find('?')\n",
    "submission_url = sample_url[0:idx] + 'submissions'"
   ]
  },
  {
   "cell_type": "code",
   "execution_count": 136,
   "metadata": {
    "collapsed": false
   },
   "outputs": [],
   "source": [
    "page = requests.get(submission_url)"
   ]
  },
  {
   "cell_type": "code",
   "execution_count": 22,
   "metadata": {
    "collapsed": true
   },
   "outputs": [],
   "source": [
    "content = BeautifulSoup(page.content,'lxml')"
   ]
  },
  {
   "cell_type": "code",
   "execution_count": 29,
   "metadata": {
    "collapsed": false
   },
   "outputs": [],
   "source": [
    "project_urls = [a.attrs['href'] for a in content.select('#submission-gallery a.software-entry-link')]"
   ]
  },
  {
   "cell_type": "code",
   "execution_count": 137,
   "metadata": {
    "collapsed": true
   },
   "outputs": [],
   "source": [
    "#projects = []"
   ]
  },
  {
   "cell_type": "code",
   "execution_count": 144,
   "metadata": {
    "collapsed": false
   },
   "outputs": [
    {
     "name": "stdout",
     "output_type": "stream",
     "text": [
      "working on hackathon #1\n",
      "working on hackathon #2\n",
      "working on hackathon #3\n",
      "working on hackathon #4\n",
      "working on hackathon #5\n",
      "working on hackathon #6\n",
      "working on hackathon #7\n",
      "working on hackathon #8\n",
      "working on hackathon #9\n",
      "working on hackathon #10\n",
      "working on hackathon #11\n",
      "working on hackathon #12\n",
      "working on hackathon #13\n",
      "working on hackathon #14\n",
      "working on hackathon #15\n",
      "working on hackathon #16\n",
      "working on hackathon #17\n",
      "working on hackathon #18\n",
      "working on hackathon #19\n",
      "working on hackathon #20\n",
      "working on hackathon #21\n",
      "working on hackathon #22\n",
      "working on hackathon #23\n",
      "working on hackathon #24\n",
      "working on hackathon #25\n",
      "working on hackathon #26\n",
      "working on hackathon #27\n",
      "working on hackathon #28\n",
      "working on hackathon #29\n",
      "working on hackathon #30\n",
      "working on hackathon #31\n",
      "working on hackathon #32\n",
      "working on hackathon #33\n",
      "working on hackathon #34\n",
      "working on hackathon #35\n"
     ]
    },
    {
     "ename": "KeyboardInterrupt",
     "evalue": "",
     "output_type": "error",
     "traceback": [
      "\u001b[0;31m---------------------------------------------------------------------------\u001b[0m",
      "\u001b[0;31mKeyboardInterrupt\u001b[0m                         Traceback (most recent call last)",
      "\u001b[0;32m<ipython-input-144-d44e4235edf1>\u001b[0m in \u001b[0;36m<module>\u001b[0;34m()\u001b[0m\n\u001b[1;32m      2\u001b[0m \u001b[0mproject_index\u001b[0m \u001b[0;34m=\u001b[0m \u001b[0;36m1\u001b[0m\u001b[0;34m\u001b[0m\u001b[0m\n\u001b[1;32m      3\u001b[0m \u001b[0;32mfor\u001b[0m \u001b[0mhackathon\u001b[0m \u001b[0;32min\u001b[0m \u001b[0mhackathon_urls\u001b[0m\u001b[0;34m:\u001b[0m\u001b[0;34m\u001b[0m\u001b[0m\n\u001b[0;32m----> 4\u001b[0;31m     \u001b[0mtime\u001b[0m\u001b[0;34m.\u001b[0m\u001b[0msleep\u001b[0m\u001b[0;34m(\u001b[0m\u001b[0;36m1\u001b[0m\u001b[0;34m)\u001b[0m\u001b[0;34m\u001b[0m\u001b[0m\n\u001b[0m\u001b[1;32m      5\u001b[0m     \u001b[0mprint\u001b[0m\u001b[0;34m(\u001b[0m\u001b[0;34m\"working on hackathon #%d\"\u001b[0m \u001b[0;34m%\u001b[0m \u001b[0mindex\u001b[0m\u001b[0;34m)\u001b[0m\u001b[0;34m\u001b[0m\u001b[0m\n\u001b[1;32m      6\u001b[0m     \u001b[0mindex\u001b[0m \u001b[0;34m+=\u001b[0m \u001b[0;36m1\u001b[0m\u001b[0;34m\u001b[0m\u001b[0m\n",
      "\u001b[0;31mKeyboardInterrupt\u001b[0m: "
     ]
    }
   ],
   "source": [
    "index = 1\n",
    "project_index = 1\n",
    "for hackathon in hackathon_urls:\n",
    "    \n",
    "    print(\"working on hackathon #%d\" % index)\n",
    "    index += 1\n",
    "    if index > 300: #where we left off\n",
    "        time.sleep(1)\n",
    "        # compute unique id that is shorter/more readable than url\n",
    "        hackathon_id = hackathon.replace('http://','')\n",
    "        period_index = hackathon_id.index('.')\n",
    "        hackathon_id = hackathon_id[0: period_index]\n",
    "        #compute url for submissions\n",
    "        idx = hackathon.find('?')\n",
    "        submission_url = hackathon[0:idx] + 'submissions'\n",
    "        #get page and do stuff\n",
    "        page = requests.get(submission_url)\n",
    "        content = BeautifulSoup(page.content,'lxml')\n",
    "        project_urls = [a.attrs['href'] for a in content.select('#submission-gallery a.software-entry-link, #submission-gallery a.link-to-software')]\n",
    "        #and loop through all the projects\n",
    "        for project in project_urls:\n",
    "            print(\"working on hackathon #%d, project #%d\" % (index, project_index))\n",
    "            project_index += 1\n",
    "            proj_page = requests.get(project)\n",
    "            proj_content = BeautifulSoup(proj_page.content, 'lxml')\n",
    "            try:\n",
    "                details_div = proj_content.select('#app-details-left > div')[1]\n",
    "                details = details_div.text\n",
    "                winner = len(proj_content.select('.winner')) > 0\n",
    "                projects.append({\n",
    "                        'description': details,\n",
    "                        'winner': winner,\n",
    "                        'hackathon_id': hackathon_id\n",
    "                    })\n",
    "            except:\n",
    "                pass\n",
    "            # once again, lets not be assholes\n",
    "            time.sleep(1)"
   ]
  },
  {
   "cell_type": "code",
   "execution_count": 142,
   "metadata": {
    "collapsed": false
   },
   "outputs": [
    {
     "data": {
      "text/plain": [
       "2991"
      ]
     },
     "execution_count": 142,
     "metadata": {},
     "output_type": "execute_result"
    }
   ],
   "source": [
    "len(projects)"
   ]
  },
  {
   "cell_type": "code",
   "execution_count": 143,
   "metadata": {
    "collapsed": false
   },
   "outputs": [],
   "source": [
    "with open('./scrape_data/projects.json','w') as f:\n",
    "    json.dump(projects, f, {'4': 5, '6': 7}, sort_keys=True, indent=4, separators=(',', ': '))"
   ]
  },
  {
   "cell_type": "code",
   "execution_count": null,
   "metadata": {
    "collapsed": false
   },
   "outputs": [],
   "source": [
    "\n"
   ]
  },
  {
   "cell_type": "code",
   "execution_count": null,
   "metadata": {
    "collapsed": false
   },
   "outputs": [],
   "source": []
  },
  {
   "cell_type": "code",
   "execution_count": null,
   "metadata": {
    "collapsed": true
   },
   "outputs": [],
   "source": []
  }
 ],
 "metadata": {
  "kernelspec": {
   "display_name": "Python 3",
   "language": "python",
   "name": "python3"
  },
  "language_info": {
   "codemirror_mode": {
    "name": "ipython",
    "version": 3
   },
   "file_extension": ".py",
   "mimetype": "text/x-python",
   "name": "python",
   "nbconvert_exporter": "python",
   "pygments_lexer": "ipython3",
   "version": "3.5.1"
  }
 },
 "nbformat": 4,
 "nbformat_minor": 0
}
